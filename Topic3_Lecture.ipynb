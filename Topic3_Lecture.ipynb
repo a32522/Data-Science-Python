{
  "nbformat": 4,
  "nbformat_minor": 0,
  "metadata": {
    "kernelspec": {
      "display_name": "Python [default]",
      "language": "python",
      "name": "python3"
    },
    "language_info": {
      "codemirror_mode": {
        "name": "ipython",
        "version": 3
      },
      "file_extension": ".py",
      "mimetype": "text/x-python",
      "name": "python",
      "nbconvert_exporter": "python",
      "pygments_lexer": "ipython3",
      "version": "3.6.2"
    },
    "toc": {
      "base_numbering": 1,
      "nav_menu": {
        "height": "48px",
        "width": "252px"
      },
      "number_sections": true,
      "sideBar": true,
      "skip_h1_title": false,
      "title_cell": "Table of Contents",
      "title_sidebar": "Contents",
      "toc_cell": false,
      "toc_position": {},
      "toc_section_display": "block",
      "toc_window_display": false
    },
    "varInspector": {
      "cols": {
        "lenName": 16,
        "lenType": 16,
        "lenVar": 40
      },
      "kernels_config": {
        "python": {
          "delete_cmd_postfix": "",
          "delete_cmd_prefix": "del ",
          "library": "var_list.py",
          "varRefreshCmd": "print(var_dic_list())"
        },
        "r": {
          "delete_cmd_postfix": ") ",
          "delete_cmd_prefix": "rm(",
          "library": "var_list.r",
          "varRefreshCmd": "cat(var_dic_list()) "
        }
      },
      "types_to_exclude": [
        "module",
        "function",
        "builtin_function_or_method",
        "instance",
        "_Feature"
      ],
      "window_display": false
    },
    "colab": {
      "name": "Topic3_Lecture.ipynb",
      "provenance": [],
      "include_colab_link": true
    }
  },
  "cells": [
    {
      "cell_type": "markdown",
      "metadata": {
        "id": "view-in-github",
        "colab_type": "text"
      },
      "source": [
        "<a href=\"https://colab.research.google.com/github/a32522/Data-Science-Python/blob/master/Topic3_Lecture.ipynb\" target=\"_parent\"><img src=\"https://colab.research.google.com/assets/colab-badge.svg\" alt=\"Open In Colab\"/></a>"
      ]
    },
    {
      "cell_type": "markdown",
      "metadata": {
        "id": "_cXoT2gEETkV",
        "colab_type": "text"
      },
      "source": [
        "# 3 Counting"
      ]
    },
    {
      "cell_type": "markdown",
      "metadata": {
        "id": "o7G5BTa1ETkZ",
        "colab_type": "text"
      },
      "source": [
        "The python built-in [functions](https://docs.python.org/3.6/library/functions.html) are always available without importing new libraries. In this lecture we will go over some of these functions."
      ]
    },
    {
      "cell_type": "markdown",
      "metadata": {
        "id": "fQoA3i9ZETkd",
        "colab_type": "text"
      },
      "source": [
        "We can use the `len` function to the size of an object "
      ]
    },
    {
      "cell_type": "code",
      "metadata": {
        "id": "zHfhjxdxETki",
        "colab_type": "code",
        "outputId": "a3b07134-9ebb-4eaf-b42a-2696f4c41a2d",
        "colab": {}
      },
      "source": [
        "# Size of a set\n",
        "NewSet = {1, 2}\n",
        "print(len(NewSet))"
      ],
      "execution_count": 0,
      "outputs": [
        {
          "output_type": "stream",
          "text": [
            "2\n"
          ],
          "name": "stdout"
        }
      ]
    },
    {
      "cell_type": "markdown",
      "metadata": {
        "id": "EORGJ8VDETk8",
        "colab_type": "text"
      },
      "source": [
        "`min` and `max` returns the smallest element in an object"
      ]
    },
    {
      "cell_type": "code",
      "metadata": {
        "id": "S2Luj522ETlB",
        "colab_type": "code",
        "outputId": "39616c3a-1d27-4b6e-9ff1-b19390885498",
        "colab": {}
      },
      "source": [
        "NewSet = {-2,-5,9,2, 1, 3}\n",
        "print(min(NewSet),max(NewSet))"
      ],
      "execution_count": 0,
      "outputs": [
        {
          "output_type": "stream",
          "text": [
            "-5 9\n"
          ],
          "name": "stdout"
        }
      ]
    },
    {
      "cell_type": "markdown",
      "metadata": {
        "id": "YLIM9c-lETlS",
        "colab_type": "text"
      },
      "source": [
        "Not only does these functions work on integers but also on strings. "
      ]
    },
    {
      "cell_type": "code",
      "metadata": {
        "id": "pxXDpdCXETlV",
        "colab_type": "code",
        "outputId": "70b9da21-f021-4e68-d2c2-991363397956",
        "colab": {}
      },
      "source": [
        "Set = {'c','b','a','z'}\n",
        "print(min(Set),max(Set))"
      ],
      "execution_count": 0,
      "outputs": [
        {
          "output_type": "stream",
          "text": [
            "a z\n"
          ],
          "name": "stdout"
        }
      ]
    },
    {
      "cell_type": "code",
      "metadata": {
        "id": "utt4i7RMETlq",
        "colab_type": "code",
        "outputId": "ad0b4f95-7f8d-49ab-b515-773cfad52560",
        "colab": {}
      },
      "source": [
        "# Print the sum of elements of a set\n",
        "A = {1, 5, 2, -10, 19}\n",
        "print(sum(A))"
      ],
      "execution_count": 0,
      "outputs": [
        {
          "output_type": "stream",
          "text": [
            "17\n"
          ],
          "name": "stdout"
        }
      ]
    },
    {
      "cell_type": "code",
      "metadata": {
        "id": "nYEsv_6GETl6",
        "colab_type": "code",
        "outputId": "5bdd279e-d687-49ec-9b4f-cd3eb0d54bae",
        "colab": {}
      },
      "source": [
        "# Verify the above using a 'for' loop\n",
        "total=0\n",
        "for i in A:\n",
        "    total += i\n",
        "print(total)"
      ],
      "execution_count": 0,
      "outputs": [
        {
          "output_type": "stream",
          "text": [
            "17\n"
          ],
          "name": "stdout"
        }
      ]
    },
    {
      "cell_type": "markdown",
      "metadata": {
        "id": "cXTNiOkyETmI",
        "colab_type": "text"
      },
      "source": [
        "If we want to generate a sequence of $n$ numbers from 0 to $n-1$ we can use the `range` function which returns an immutable object of type range. This feature is commonly used for running a loop for a specific number of times in a `for` loop. "
      ]
    },
    {
      "cell_type": "code",
      "metadata": {
        "id": "f6FBJgLaETmL",
        "colab_type": "code",
        "outputId": "234595de-02fb-4354-d8ce-0cad9064e559",
        "colab": {}
      },
      "source": [
        "print(list(range(10)))\n",
        "for i in range(10):\n",
        "    print(i)"
      ],
      "execution_count": 0,
      "outputs": [
        {
          "output_type": "stream",
          "text": [
            "[0, 1, 2, 3, 4, 5, 6, 7, 8, 9]\n",
            "0\n",
            "1\n",
            "2\n",
            "3\n",
            "4\n",
            "5\n",
            "6\n",
            "7\n",
            "8\n",
            "9\n"
          ],
          "name": "stdout"
        }
      ]
    },
    {
      "cell_type": "markdown",
      "metadata": {
        "id": "t-THTvk1ETmc",
        "colab_type": "text"
      },
      "source": [
        "Say we have a list of students and the respective marks in a subject and we want to view them side by side, one way of doing this would be:"
      ]
    },
    {
      "cell_type": "code",
      "metadata": {
        "id": "fUntvm-OETme",
        "colab_type": "code",
        "outputId": "169ce936-c089-4ac2-814c-ff6d547d55d6",
        "colab": {}
      },
      "source": [
        "a = [83,59,92]\n",
        "b = ['Harry','Paul','Grace']\n",
        "for i in range(3):\n",
        "    print(b[i],a[i])"
      ],
      "execution_count": 0,
      "outputs": [
        {
          "output_type": "stream",
          "text": [
            "Harry 83\n",
            "Paul 59\n",
            "Grace 92\n"
          ],
          "name": "stdout"
        }
      ]
    },
    {
      "cell_type": "markdown",
      "metadata": {
        "id": "XZnXW7RYETmv",
        "colab_type": "text"
      },
      "source": [
        "Rather than indexing each elemet in the list we could use the `zip` function that returns an iterator combing the two lists. More details can be found in the documentation. "
      ]
    },
    {
      "cell_type": "code",
      "metadata": {
        "id": "hAgvkDKHETm0",
        "colab_type": "code",
        "outputId": "0d45545f-16df-462c-b775-41064785ff03",
        "colab": {}
      },
      "source": [
        "for a_i,b_i in zip(a,b):\n",
        "    print(b_i,a_i)"
      ],
      "execution_count": 0,
      "outputs": [
        {
          "output_type": "stream",
          "text": [
            "Harry 83\n",
            "Paul 59\n",
            "Grace 92\n"
          ],
          "name": "stdout"
        }
      ]
    },
    {
      "cell_type": "markdown",
      "metadata": {
        "id": "abglxAXkETm-",
        "colab_type": "text"
      },
      "source": [
        "Lets say we also want the capability of the indexing different values, which could be implemented as follows:"
      ]
    },
    {
      "cell_type": "code",
      "metadata": {
        "id": "gu8FE6nwETnC",
        "colab_type": "code",
        "outputId": "5923bb1a-03c2-472f-c65e-5b75470e729b",
        "colab": {}
      },
      "source": [
        "for i,b_i,a_i in zip(range(len(b)),b,a):\n",
        "    print(i,b_i,a_i)"
      ],
      "execution_count": 0,
      "outputs": [
        {
          "output_type": "stream",
          "text": [
            "0 Harry 83\n",
            "1 Paul 59\n",
            "2 Grace 92\n"
          ],
          "name": "stdout"
        }
      ]
    },
    {
      "cell_type": "markdown",
      "metadata": {
        "id": "wlkvWHp_ETnW",
        "colab_type": "text"
      },
      "source": [
        "A much cleaner implementation can be done by using the function `enumerate`. This return the index numer and the value of the iterator in each iteration."
      ]
    },
    {
      "cell_type": "code",
      "metadata": {
        "id": "963uUXvmETnY",
        "colab_type": "code",
        "outputId": "ebdd4c14-054f-4b51-ff0d-7235e856834f",
        "colab": {}
      },
      "source": [
        "for i,(b_i,a_i) in enumerate(zip(b,a)):\n",
        "    print(i,b_i,a_i)"
      ],
      "execution_count": 0,
      "outputs": [
        {
          "output_type": "stream",
          "text": [
            "0 Harry 83\n",
            "1 Paul 59\n",
            "2 Grace 92\n"
          ],
          "name": "stdout"
        }
      ]
    },
    {
      "cell_type": "markdown",
      "metadata": {
        "id": "WjgCweckETnq",
        "colab_type": "text"
      },
      "source": [
        "## 3.1 Disjoint Unions"
      ]
    },
    {
      "cell_type": "code",
      "metadata": {
        "scrolled": true,
        "id": "qfOXyQwoETnr",
        "colab_type": "code",
        "outputId": "0a7647ab-c452-4979-8636-9c649135b49b",
        "colab": {}
      },
      "source": [
        "A = {1, 2, 3}\n",
        "B = {1, 3, 5}\n",
        "print(len(A),len(B))"
      ],
      "execution_count": 0,
      "outputs": [
        {
          "output_type": "stream",
          "text": [
            "3 3\n"
          ],
          "name": "stdout"
        }
      ]
    },
    {
      "cell_type": "code",
      "metadata": {
        "id": "xnsbFXqaETn3",
        "colab_type": "code",
        "outputId": "5223ec20-64a2-4cc4-faff-ad64470cb658",
        "colab": {}
      },
      "source": [
        "# Intersection\n",
        "C = A & B\n",
        "print(C, \"\\n\", len(C))"
      ],
      "execution_count": 0,
      "outputs": [
        {
          "output_type": "stream",
          "text": [
            "{1, 3} \n",
            " 2\n"
          ],
          "name": "stdout"
        }
      ]
    },
    {
      "cell_type": "code",
      "metadata": {
        "id": "YDGCsrySEToB",
        "colab_type": "code",
        "outputId": "c7b6a7be-8caa-482f-f8c8-795b749a1165",
        "colab": {}
      },
      "source": [
        "# Difference\n",
        "E = A-B\n",
        "print(E, \"\\n\", len(E))"
      ],
      "execution_count": 0,
      "outputs": [
        {
          "output_type": "stream",
          "text": [
            "{2} \n",
            " 1\n"
          ],
          "name": "stdout"
        }
      ]
    },
    {
      "cell_type": "markdown",
      "metadata": {
        "id": "O09spgqSEToU",
        "colab_type": "text"
      },
      "source": [
        "## 3.2 General Unions\n",
        "\n",
        "Calculate size of union in two ways: directly and using inclusion exclusion"
      ]
    },
    {
      "cell_type": "code",
      "metadata": {
        "id": "86-sdV-BETod",
        "colab_type": "code",
        "outputId": "b7dae598-fe4b-41b8-b578-9ededdbb8df6",
        "colab": {}
      },
      "source": [
        "# Union\n",
        "D = A | B\n",
        "print(D, \"\\n\", len(D) ,\"\\n\", len(A)+len(B)-len(C))"
      ],
      "execution_count": 0,
      "outputs": [
        {
          "output_type": "stream",
          "text": [
            "{1, 2, 3, 5} \n",
            " 4 \n",
            " 4\n"
          ],
          "name": "stdout"
        }
      ]
    },
    {
      "cell_type": "markdown",
      "metadata": {
        "id": "ExPmmtf3ETov",
        "colab_type": "text"
      },
      "source": [
        "## 3.3 Cartesian Products\n",
        "\n",
        "We'll find the cartesian product of two sets $A$ and $B$ and determine $|A\\times B|$ in two ways. First, by counting the number of elements in $A\\times B$, then by simply multiplying $|A|$ by $|B|$. We begin by importing the **itertools** library."
      ]
    },
    {
      "cell_type": "code",
      "metadata": {
        "id": "72Rs7DK5ETo0",
        "colab_type": "code",
        "colab": {}
      },
      "source": [
        "import itertools"
      ],
      "execution_count": 0,
      "outputs": []
    },
    {
      "cell_type": "code",
      "metadata": {
        "id": "3d7h2cYNETpF",
        "colab_type": "code",
        "colab": {}
      },
      "source": [
        "A = {1, 2, 3}\n",
        "B = {4, 5}"
      ],
      "execution_count": 0,
      "outputs": []
    },
    {
      "cell_type": "markdown",
      "metadata": {
        "id": "Iv-8tnWuETpR",
        "colab_type": "text"
      },
      "source": [
        "In the previous lecture we saw how we can find the Cartesian products with two for loops, another way to write the same would be: "
      ]
    },
    {
      "cell_type": "code",
      "metadata": {
        "id": "2YlSq0t8ETpS",
        "colab_type": "code",
        "outputId": "f8ca492f-cb93-4f0e-b12b-b12603572bed",
        "colab": {}
      },
      "source": [
        "cartesian_product = set([(a,b) for a in A for b in B])\n",
        "print(\"Ordered pairs in %s x %s:  \" %(A,B))\n",
        "print(cartesian_product)"
      ],
      "execution_count": 0,
      "outputs": [
        {
          "output_type": "stream",
          "text": [
            "Ordered pairs in {1, 2, 3} x {4, 5}:  \n",
            "{(1, 4), (1, 5), (2, 5), (3, 4), (2, 4), (3, 5)}\n"
          ],
          "name": "stdout"
        }
      ]
    },
    {
      "cell_type": "markdown",
      "metadata": {
        "id": "ptniZC0dETpe",
        "colab_type": "text"
      },
      "source": [
        "We can do the same using itertools library"
      ]
    },
    {
      "cell_type": "code",
      "metadata": {
        "id": "dI2PGgB4ETpg",
        "colab_type": "code",
        "outputId": "74b31e01-67f1-4ad5-b195-cc224d6b1b99",
        "colab": {}
      },
      "source": [
        "# Print cartesian product A X B and its size\n",
        "cartesian_product = set([i for i in itertools.product(A, B)])\n",
        "print(\"Ordered pairs in %s x %s:  \" %(A,B))\n",
        "print(cartesian_product)\n",
        "print;print(\"Size = %i\" %len(cartesian_product))"
      ],
      "execution_count": 0,
      "outputs": [
        {
          "output_type": "stream",
          "text": [
            "Ordered pairs in {1, 2, 3} x {4, 5}:  \n",
            "{(1, 4), (1, 5), (2, 5), (3, 4), (2, 4), (3, 5)}\n",
            "Size = 6\n"
          ],
          "name": "stdout"
        }
      ]
    },
    {
      "cell_type": "code",
      "metadata": {
        "id": "r5l3r-P9ETpm",
        "colab_type": "code",
        "outputId": "d07a0417-c293-4576-be82-0f4cd2295431",
        "colab": {}
      },
      "source": [
        "# |A X B| directly\n",
        "print(len(cartesian_product))"
      ],
      "execution_count": 0,
      "outputs": [
        {
          "output_type": "stream",
          "text": [
            "6\n"
          ],
          "name": "stdout"
        }
      ]
    },
    {
      "cell_type": "code",
      "metadata": {
        "id": "jVAGGCCNETp1",
        "colab_type": "code",
        "outputId": "108758f6-9d6f-4fd8-df0f-031225d73c09",
        "colab": {}
      },
      "source": [
        "# |A X B| using product rule\n",
        "print(len(A)*len(B))"
      ],
      "execution_count": 0,
      "outputs": [
        {
          "output_type": "stream",
          "text": [
            "6\n"
          ],
          "name": "stdout"
        }
      ]
    },
    {
      "cell_type": "markdown",
      "metadata": {
        "id": "iExO40iFETp_",
        "colab_type": "text"
      },
      "source": [
        "## 3.3 Cartesian Powers"
      ]
    },
    {
      "cell_type": "markdown",
      "metadata": {
        "id": "IRXulxTDETqA",
        "colab_type": "text"
      },
      "source": [
        "We determine the size of $A^k$, the $k$-th cartesian power of $A$ in two ways: calculating $A^k$ and its size, and then via the formula $|A|^k$."
      ]
    },
    {
      "cell_type": "code",
      "metadata": {
        "id": "sndaRyYrETqB",
        "colab_type": "code",
        "colab": {}
      },
      "source": [
        "A = {1, 2, 3}\n",
        "k = 2"
      ],
      "execution_count": 0,
      "outputs": []
    },
    {
      "cell_type": "markdown",
      "metadata": {
        "id": "uvzaf7aAETqQ",
        "colab_type": "text"
      },
      "source": [
        "Expanding on our previous code,we add one more `for` to iterate over the different values of k."
      ]
    },
    {
      "cell_type": "code",
      "metadata": {
        "id": "B6vYAtKNETqR",
        "colab_type": "code",
        "outputId": "777f009c-41ed-4b87-a9fa-fbe582f2149a",
        "colab": {}
      },
      "source": [
        "# Initialize every element as a tuple\n",
        "cartesian_powers = [(a,) for a in A]\n",
        "for j in range(k-1):\n",
        "    cartesian_powers = [ i+(a,) for i in cartesian_powers for a in A]\n",
        "\n",
        "print(\"Tuples  in {}^{}: {}\".format(A,k,set(cartesian_powers)))\n",
        "print(\"Size = {}\".format(len(cartesian_powers)))"
      ],
      "execution_count": 0,
      "outputs": [
        {
          "output_type": "stream",
          "text": [
            "Tuples  in {1, 2, 3}^2: {(1, 2), (3, 2), (1, 3), (3, 3), (3, 1), (2, 1), (2, 3), (2, 2), (1, 1)}\n",
            "Size = 9\n"
          ],
          "name": "stdout"
        }
      ]
    },
    {
      "cell_type": "markdown",
      "metadata": {
        "id": "5_oQFauWETrr",
        "colab_type": "text"
      },
      "source": [
        "We can repeat the same using `product` function in itertools."
      ]
    },
    {
      "cell_type": "code",
      "metadata": {
        "id": "557s__RpETrt",
        "colab_type": "code",
        "outputId": "15effceb-105d-4f05-f541-efd5825f8125",
        "colab": {}
      },
      "source": [
        "# Print k'th cartesian power of A\n",
        "cartesian_powers = set(itertools.product(A, repeat = k))\n",
        "print(\"Tuples  in {}^{}: {}\".format(A,k,cartesian_powers))\n",
        "print(\"Size = {}\".format(len(cartesian_powers)))"
      ],
      "execution_count": 0,
      "outputs": [
        {
          "output_type": "stream",
          "text": [
            "Tuples  in {1, 2, 3}^2: {(1, 2), (3, 2), (1, 3), (3, 3), (3, 1), (2, 1), (2, 3), (2, 2), (1, 1)}\n",
            "Size = 9\n"
          ],
          "name": "stdout"
        }
      ]
    },
    {
      "cell_type": "code",
      "metadata": {
        "id": "WzyhXDOxETsK",
        "colab_type": "code",
        "outputId": "32509cee-6a56-45db-fc0f-75c3425906d6",
        "colab": {}
      },
      "source": [
        "# Find |A|^k directly\n",
        "print(len(A)**k)"
      ],
      "execution_count": 0,
      "outputs": [
        {
          "output_type": "stream",
          "text": [
            "9\n"
          ],
          "name": "stdout"
        }
      ]
    },
    {
      "cell_type": "markdown",
      "metadata": {
        "id": "XgzaqiC2ETsa",
        "colab_type": "text"
      },
      "source": [
        "Next we calculate and graph the exponential $2^x$ and the polynomials $x$ and $x^2$. Move the slider to see that the exponential grows much faster than the polynomials. Please experiment with different functions to see how fast they grow. To help us generate the data points and plot the graph we import some useful functions."
      ]
    },
    {
      "cell_type": "code",
      "metadata": {
        "id": "xeOdzHo3ETsc",
        "colab_type": "code",
        "colab": {}
      },
      "source": [
        "import matplotlib.pyplot as plt # A library to plot data points\n",
        "import numpy as np # A library to help easier manipulation of arrays\n",
        "import ipywidgets as widgets # A library for generating sludes for interaction "
      ],
      "execution_count": 0,
      "outputs": []
    },
    {
      "cell_type": "code",
      "metadata": {
        "id": "3BV6QGnDETs3",
        "colab_type": "code",
        "outputId": "324a7fdf-1cee-47ba-90b9-3c839c1025a2",
        "colab": {
          "referenced_widgets": [
            "70a80202c29a4cfc83eb9b4d3f6009dd"
          ]
        }
      },
      "source": [
        "@widgets.interact(x_max=(0.5,20.0),continuous_update=False)\n",
        "def f(x_max):\n",
        "    x = np.arange(0, x_max, 0.01)\n",
        "    \n",
        "    plt.figure(figsize=(12,9))\n",
        "    plt.plot(x, x, 'b', linewidth = 3, label = '$x$')\n",
        "    plt.plot(x, x**2, 'r', linewidth = 3, label = '$x^2$')\n",
        "    plt.plot(x, 2**x, 'm', linewidth = 3, label = '$2^x$')\n",
        "    plt.xlabel('x', fontsize = 20)\n",
        "    plt.xticks(fontsize = 18)\n",
        "    plt.yticks(np.linspace(max(2**x_max, x_max**2)/10, max(2**x_max, x_max**2), 10), fontsize = 18)\n",
        "    plt.xlim([0, x_max])\n",
        "    plt.ylim([0, max(2**x_max, x_max**2)])\n",
        "    plt.legend(fontsize = 20)\n",
        "    plt.show()\n",
        "    "
      ],
      "execution_count": 0,
      "outputs": [
        {
          "output_type": "display_data",
          "data": {
            "application/vnd.jupyter.widget-view+json": {
              "model_id": "70a80202c29a4cfc83eb9b4d3f6009dd",
              "version_major": 2,
              "version_minor": 0
            },
            "text/plain": [
              "A Jupyter Widget"
            ]
          },
          "metadata": {
            "tags": []
          }
        }
      ]
    }
  ]
}