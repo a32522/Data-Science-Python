{
  "nbformat": 4,
  "nbformat_minor": 0,
  "metadata": {
    "kernelspec": {
      "display_name": "Python 2",
      "language": "python",
      "name": "python2"
    },
    "language_info": {
      "codemirror_mode": {
        "name": "ipython",
        "version": 3
      },
      "file_extension": ".py",
      "mimetype": "text/x-python",
      "name": "python",
      "nbconvert_exporter": "python",
      "pygments_lexer": "ipython3",
      "version": "3.5.2"
    },
    "latex_envs": {
      "LaTeX_envs_menu_present": true,
      "autoclose": false,
      "autocomplete": true,
      "bibliofile": "biblio.bib",
      "cite_by": "apalike",
      "current_citInitial": 1,
      "eqLabelWithNumbers": true,
      "eqNumInitial": 1,
      "hotkeys": {
        "equation": "Ctrl-E",
        "itemize": "Ctrl-I"
      },
      "labels_anchors": false,
      "latex_user_defs": false,
      "report_style_numbering": false,
      "user_envs_cfg": false
    },
    "toc": {
      "nav_menu": {
        "height": "48px",
        "width": "252px"
      },
      "number_sections": true,
      "sideBar": true,
      "skip_h1_title": false,
      "toc_cell": false,
      "toc_position": [],
      "toc_section_display": "block",
      "toc_window_display": false
    },
    "varInspector": {
      "cols": {
        "lenName": 16,
        "lenType": 16,
        "lenVar": 40
      },
      "kernels_config": {
        "python": {
          "delete_cmd_postfix": "",
          "delete_cmd_prefix": "del ",
          "library": "var_list.py",
          "varRefreshCmd": "print(var_dic_list())"
        },
        "r": {
          "delete_cmd_postfix": ") ",
          "delete_cmd_prefix": "rm(",
          "library": "var_list.r",
          "varRefreshCmd": "cat(var_dic_list()) "
        }
      },
      "types_to_exclude": [
        "module",
        "function",
        "builtin_function_or_method",
        "instance",
        "_Feature"
      ],
      "window_display": false
    },
    "colab": {
      "name": "HW_Topic2.ipynb",
      "provenance": [],
      "include_colab_link": true
    }
  },
  "cells": [
    {
      "cell_type": "markdown",
      "metadata": {
        "id": "view-in-github",
        "colab_type": "text"
      },
      "source": [
        "<a href=\"https://colab.research.google.com/github/a32522/Data-Science-Python/blob/master/HW_Topic2.ipynb\" target=\"_parent\"><img src=\"https://colab.research.google.com/assets/colab-badge.svg\" alt=\"Open In Colab\"/></a>"
      ]
    },
    {
      "cell_type": "markdown",
      "metadata": {
        "nbgrader": {
          "grade": false,
          "locked": true,
          "solution": false
        },
        "id": "qYZQLTRSpwRv",
        "colab_type": "text"
      },
      "source": [
        "<font size=\"4\" style=\"color:red;\"> **IMPORTANT: ** When submitting this homework notebook, please modify only the cells that start with:</font>\n",
        "\n",
        "```python\n",
        "# modify this cell\n",
        "```"
      ]
    },
    {
      "cell_type": "markdown",
      "metadata": {
        "nbgrader": {
          "grade": false,
          "locked": true,
          "solution": false
        },
        "id": "8lfGweonpwRy",
        "colab_type": "text"
      },
      "source": [
        "### Import Stuff\n",
        "\n",
        "Notice that we do not import *numpy* or *scipy* neither of these packages are need for this homework. For our solutions, the only command we needed to import was `itertools.product()`"
      ]
    },
    {
      "cell_type": "code",
      "metadata": {
        "nbgrader": {
          "grade": false,
          "locked": true,
          "solution": false
        },
        "id": "d4O_3FfwpwR0",
        "colab_type": "code",
        "colab": {}
      },
      "source": [
        "import itertools\n",
        "from itertools import product"
      ],
      "execution_count": 0,
      "outputs": []
    },
    {
      "cell_type": "markdown",
      "metadata": {
        "nbgrader": {
          "grade": false,
          "locked": true,
          "solution": false
        },
        "id": "UxXzT6UIpwR9",
        "colab_type": "text"
      },
      "source": [
        "# Sets\n",
        "Read the notebook on sets before attempting these exercises"
      ]
    },
    {
      "cell_type": "markdown",
      "metadata": {
        "nbgrader": {
          "grade": false,
          "locked": true,
          "solution": false
        },
        "id": "djTJMtpxpwR_",
        "colab_type": "text"
      },
      "source": [
        "# Problem 1"
      ]
    },
    {
      "cell_type": "markdown",
      "metadata": {
        "nbgrader": {
          "grade": false,
          "locked": true,
          "solution": false
        },
        "id": "Hd8BIHvspwSA",
        "colab_type": "text"
      },
      "source": [
        "De Morgan's first law states the following for any two sets $A$ and $B$\n",
        "$$(A\\cup B)^c = A^c\\cap B^c$$\n",
        "\n",
        "In the following two exercises we calculate $(A\\cup B)^c$ in two different ways. Both functions must take $A$, $B$ and the universal set $U$ as their inputs."
      ]
    },
    {
      "cell_type": "markdown",
      "metadata": {
        "nbgrader": {
          "grade": false,
          "locked": true,
          "solution": false
        },
        "id": "AFMyI3JDpwSC",
        "colab_type": "text"
      },
      "source": [
        "## Exercise 1.1"
      ]
    },
    {
      "cell_type": "markdown",
      "metadata": {
        "nbgrader": {
          "grade": false,
          "locked": true,
          "solution": false
        },
        "id": "4PUX7liBpwSD",
        "colab_type": "text"
      },
      "source": [
        "\n",
        "Write the function **complement_of_union** that first determines $A\\cup B$ and then evaluates the complement of this set. Output the tuple: $\\begin{pmatrix}A\\cup B,\\, (A\\cup B)^c\\end{pmatrix}$.\n",
        "\n",
        "\n",
        "\n",
        "<font  style=\"color:blue\"> **Code**</font>\n",
        "```python\n",
        "A = {1, 2, 3}\n",
        "B = {3, -6, 2, 0}\n",
        "U = {-10, -9, -8, -7, -6, 0, 1, 2, 3, 4}\n",
        "complement_of_union(A, B, U)\n",
        "```\n",
        "\n",
        "<font  style=\"color:magenta\"> **Output**</font>\n",
        "```\n",
        "({-6, 0, 1, 2, 3}, {-10, -9, -8, -7, 4})\n",
        "```\n"
      ]
    },
    {
      "cell_type": "code",
      "metadata": {
        "scrolled": true,
        "id": "XbI_8eFWpwSE",
        "colab_type": "code",
        "colab": {
          "base_uri": "https://localhost:8080/",
          "height": 34
        },
        "outputId": "677b8639-dee3-4362-bd2b-46f820f91efc"
      },
      "source": [
        "# modify this cell\n",
        "#A = {1, 2, 3}\n",
        "#B = {3, -6, 2, 0}\n",
        "#U = {-10, -9, -8, -7, -6, 0, 1, 2, 3, 4}\n",
        "def complement_of_union(A, B, U):\n",
        "    # inputs: A, B and U are of type 'set'\n",
        "    # output: a tuple of the type (set, set)\n",
        "    #\n",
        "    # YOUR CODE HERE\n",
        "    ok=(A|B,(U-B)&(U-A))\n",
        "    return ok\n",
        "complement_of_union(A,B,U)"
      ],
      "execution_count": 22,
      "outputs": [
        {
          "output_type": "execute_result",
          "data": {
            "text/plain": [
              "({-6, 0, 1, 2, 3, 4, 5, 8, 9}, {-4, -3, 7, 10})"
            ]
          },
          "metadata": {
            "tags": []
          },
          "execution_count": 22
        }
      ]
    },
    {
      "cell_type": "code",
      "metadata": {
        "nbgrader": {
          "grade": true,
          "grade_id": "ex1",
          "locked": true,
          "points": "5",
          "solution": false
        },
        "id": "PZi0pIlapwSL",
        "colab_type": "code",
        "colab": {}
      },
      "source": [
        "# Check Function\n",
        "\n",
        "A = {1, 2, 3, 4, 5}\n",
        "B = {0, 2, -6, 5, 8, 9}\n",
        "U = A|B|{-3, 7, 10, -4}\n",
        "assert( complement_of_union(A, B, U) == ({-6, 0, 1, 2, 3, 4, 5, 8, 9}, {-4, -3, 7, 10})  )\n",
        "\n",
        "#\n",
        "# AUTOGRADER TEST - DO NOT REMOVE\n",
        "#\n"
      ],
      "execution_count": 0,
      "outputs": []
    },
    {
      "cell_type": "markdown",
      "metadata": {
        "nbgrader": {
          "grade": false,
          "locked": true,
          "solution": false
        },
        "id": "nJXCrP0_pwSS",
        "colab_type": "text"
      },
      "source": [
        "## Exercsise 1.2\n",
        "\n",
        "Write the function **intersection_of_complements** that first determines $A^c$ and $B^c$ and then evaluates the intersection of their complements. Output the tuple: $\\begin{pmatrix}A^c, \\,  A^c\\cap B^c\\end{pmatrix}$\n",
        "\n",
        "<font  style=\"color:blue\"> **Code**</font>\n",
        "```python\n",
        "A = {1, 2, 3}\n",
        "B = {3, -6, 2, 0}\n",
        "U = {-10, -9, -8, -7, -6, 0, 1, 2, 3, 4}\n",
        "intersection_of_complements(A, B, U)\n",
        "```\n",
        "\n",
        "<font  style=\"color:magenta\"> **Output**</font>\n",
        "```\n",
        "({-10, -9, -8, -7, -6, 0, 4}, {-10, -9, -8, -7, 4})\n",
        "```\n"
      ]
    },
    {
      "cell_type": "code",
      "metadata": {
        "id": "hEouCrcPpwST",
        "colab_type": "code",
        "colab": {}
      },
      "source": [
        "# modify this cell\n",
        "\n",
        "def intersection_of_complements(A, B, U):\n",
        "    # inputs: A, B and U are of type 'set'\n",
        "    # output: a tuple of the form (set, set)\n",
        "    \n",
        "    #\n",
        "    # YOUR CODE HERE\n",
        "    #\n",
        "    lol=(U-A,(U-A)&(U-B))\n",
        "    return lol"
      ],
      "execution_count": 0,
      "outputs": []
    },
    {
      "cell_type": "code",
      "metadata": {
        "nbgrader": {
          "grade": true,
          "grade_id": "ex2",
          "locked": true,
          "points": "5",
          "solution": false
        },
        "id": "eGWWjGv8pwSa",
        "colab_type": "code",
        "colab": {}
      },
      "source": [
        "# Check Function\n",
        "\n",
        "A = {1, 2, 3, 4, 5}\n",
        "B = {0, 2, -6, 5, 8, 9}\n",
        "U = A|B|{-3, 7, 10, -4}\n",
        "assert(  intersection_of_complements(A, B, U) == ({-6, -4, -3, 0, 7, 8, 9, 10}, {-4, -3, 7, 10})  )\n",
        "\n",
        "#\n",
        "# AUTOGRADER TEST - DO NOT REMOVE\n",
        "#\n"
      ],
      "execution_count": 0,
      "outputs": []
    },
    {
      "cell_type": "markdown",
      "metadata": {
        "collapsed": true,
        "nbgrader": {
          "grade": false,
          "locked": true,
          "solution": false
        },
        "id": "ycpRYFAjpwSh",
        "colab_type": "text"
      },
      "source": [
        "# Problem 2"
      ]
    },
    {
      "cell_type": "markdown",
      "metadata": {
        "nbgrader": {
          "grade": false,
          "locked": true,
          "solution": false
        },
        "id": "JiYbZobHpwSj",
        "colab_type": "text"
      },
      "source": [
        "This problem illustrates a property of cartesian products of unions of two or more sets. For four sets $A$, $B$, $S$ and $T$, the following holds:\n",
        "\n",
        "$$(A\\cup B)\\times(S\\cup T) = (A\\times S)\\cup(A\\times T)\\cup(B\\times S)\\cup(B\\times T)$$\n",
        "\n",
        "Write the following functions to determine $(A\\cup B)\\times(S\\cup T)$ in two different ways.\n"
      ]
    },
    {
      "cell_type": "markdown",
      "metadata": {
        "nbgrader": {
          "grade": false,
          "locked": true,
          "solution": false
        },
        "id": "A90EkPM3pwSl",
        "colab_type": "text"
      },
      "source": [
        "## Exercies 2.1\n",
        "\n",
        "Write function **product_of_unions** that first determines $(A\\cup B)$ and $(S\\cup T)$ and then evaluates the cartesian products of these unions. Output the tuple $\\begin{pmatrix}(A\\cup B),\\,  (A\\cup B)\\times(S\\cup T)\\end{pmatrix}$.\n",
        "\n",
        "<font  style=\"color:blue\"> **Code**</font>\n",
        "```python\n",
        "A = {1, 2}\n",
        "B = {1, 3}\n",
        "S = {-1, 0}\n",
        "T = {0, 10}\n",
        "product_of_unions(A, B, S, T)\n",
        "```\n",
        "\n",
        "\n",
        "<font  style=\"color:magenta\"> **Output**</font>\n",
        "```\n",
        "({1, 2, 3},\n",
        " {(1, -1),\n",
        "  (1, 0),\n",
        "  (1, 10),\n",
        "  (2, -1),\n",
        "  (2, 0),\n",
        "  (2, 10),\n",
        "  (3, -1),\n",
        "  (3, 0),\n",
        "  (3, 10)})\n",
        "```\n"
      ]
    },
    {
      "cell_type": "code",
      "metadata": {
        "id": "gyhYGrnlpwSn",
        "colab_type": "code",
        "colab": {
          "base_uri": "https://localhost:8080/",
          "height": 34
        },
        "outputId": "d39c9f6c-0613-4d10-d60e-1be117b3d32f"
      },
      "source": [
        "# modify this cell\n",
        "def product_of_unions(A, B, S, T):\n",
        "    # inputs: A, B, S and T are sets\n",
        "    # output: a tuple of the type (set, set)\n",
        "    #\n",
        "    # YOUR CODE HERE\n",
        "    #\n",
        "    uniAB=(A.union(B))\n",
        "    uniST=(S.union(T))\n",
        "    ok={i for i in product (uniAB,uniST)}\n",
        "    nani=(uniAB,(ok))\n",
        "    return nani\n",
        "product_of_unions(A,B,S,T)"
      ],
      "execution_count": 80,
      "outputs": [
        {
          "output_type": "execute_result",
          "data": {
            "text/plain": [
              "({5, 6}, {(5, -1), (5, 0), (5, 1), (5, 2), (6, -1), (6, 0), (6, 1), (6, 2)})"
            ]
          },
          "metadata": {
            "tags": []
          },
          "execution_count": 80
        }
      ]
    },
    {
      "cell_type": "code",
      "metadata": {
        "nbgrader": {
          "grade": true,
          "grade_id": "ex3",
          "locked": true,
          "points": "5",
          "solution": false
        },
        "id": "TP7mRkyXpwSv",
        "colab_type": "code",
        "colab": {}
      },
      "source": [
        "# Check Function\n",
        "\n",
        "A = {5}\n",
        "B = {5, 6}\n",
        "S = {-1, 0, 1}\n",
        "T = {1, 2}\n",
        "assert( product_of_unions(A, B, S, T) == \\\n",
        "       ({5, 6}, {(5, -1), (5, 0), (5, 1), (5, 2), (6, -1), (6, 0), (6, 1), (6, 2)})   )\n",
        "\n",
        "#\n",
        "# AUTOGRADER TEST - DO NOT REMOVE\n",
        "#\n"
      ],
      "execution_count": 0,
      "outputs": []
    },
    {
      "cell_type": "markdown",
      "metadata": {
        "nbgrader": {
          "grade": false,
          "locked": true,
          "solution": false
        },
        "id": "oYkTu9JkpwS4",
        "colab_type": "text"
      },
      "source": [
        "## Exercise 2.2\n",
        "\n",
        "Write a function **union_of_products** that first determines $(A\\times S)$ and the other three cartesian products that appear on the right hand side of the identity above, then evaluates the union of these cartesian products. Output the tuple $\\begin{pmatrix}(A\\times S),\\,  (A\\times S)\\cup(A\\times T)\\cup(B\\times S)\\cup(B\\times T)\\end{pmatrix}$.\n",
        "\n",
        "<font  style=\"color:blue\"> **Code**</font>\n",
        "```python\n",
        "A = {1, 2}\n",
        "B = {1, 3}\n",
        "S = {-1, 0}\n",
        "T = {0, 10}\n",
        "union_of_products(A, B, S, T)\n",
        "```\n",
        "\n",
        "\n",
        "<font  style=\"color:magenta\"> **Output**</font>\n",
        "```\n",
        "({(1, -1), (1, 0), (2, -1), (2, 0)},\n",
        " {(1, -1),\n",
        "  (1, 0),\n",
        "  (1, 10),\n",
        "  (2, -1),\n",
        "  (2, 0),\n",
        "  (2, 10),\n",
        "  (3, -1),\n",
        "  (3, 0),\n",
        "  (3, 10)})\n",
        "```"
      ]
    },
    {
      "cell_type": "code",
      "metadata": {
        "scrolled": true,
        "id": "BCbXER9spwS5",
        "colab_type": "code",
        "colab": {
          "base_uri": "https://localhost:8080/",
          "height": 51
        },
        "outputId": "823fc2dd-059f-41b7-f941-9468c3263461"
      },
      "source": [
        "# modify this cel\n",
        "#((A×S),(A×S)∪(A×T)∪(B×S)∪(B×T)) \n",
        "def union_of_products(A, B, S, T):\n",
        "    # inputs: A, B, S and T are sets\n",
        "    # output: a tuple of the type (set, set)\n",
        "    #\n",
        "    # YOUR CODE HERE\n",
        "    #\n",
        "    prodAS={i for i in product (A,S)}\n",
        "    prodAT={i for i in product (A,T)}\n",
        "    prodBS={i for i in product (B,S)}\n",
        "    prodBT={i for i in product (B,T)}\n",
        "    kurwa=(prodAS,(prodAS|prodAT|prodBS|prodBT))\n",
        "    return kurwa"
      ],
      "execution_count": 90,
      "outputs": [
        {
          "output_type": "execute_result",
          "data": {
            "text/plain": [
              "({(5, -1), (5, 0), (5, 1)},\n",
              " {(5, -1), (5, 0), (5, 1), (5, 2), (6, -1), (6, 0), (6, 1), (6, 2)})"
            ]
          },
          "metadata": {
            "tags": []
          },
          "execution_count": 90
        }
      ]
    },
    {
      "cell_type": "code",
      "metadata": {
        "nbgrader": {
          "grade": true,
          "grade_id": "ex4",
          "locked": true,
          "points": "5",
          "solution": false
        },
        "id": "NWCew527pwS-",
        "colab_type": "code",
        "colab": {}
      },
      "source": [
        "# Check Function\n",
        "\n",
        "A = {5}\n",
        "B = {5, 6}\n",
        "S = {-1, 0, 1}\n",
        "T = {1, 2}\n",
        "assert( union_of_products(A, B, S, T) == \\\n",
        "        ({(5, -1), (5, 0), (5, 1)}, \\\n",
        "         {(5, -1), (5, 0), (5, 1), (5, 2), (6, -1), (6, 0), (6, 1), (6, 2)})  \\\n",
        "      )\n",
        "\n",
        "#\n",
        "# AUTOGRADER TEST - DO NOT REMOVE\n",
        "#\n"
      ],
      "execution_count": 0,
      "outputs": []
    },
    {
      "cell_type": "code",
      "metadata": {
        "nbgrader": {
          "grade": false,
          "locked": true,
          "solution": false
        },
        "id": "ag405vC1pwTE",
        "colab_type": "code",
        "colab": {}
      },
      "source": [
        "\n",
        "\n",
        "\n",
        "\n",
        "\n",
        "\n"
      ],
      "execution_count": 0,
      "outputs": []
    }
  ]
}