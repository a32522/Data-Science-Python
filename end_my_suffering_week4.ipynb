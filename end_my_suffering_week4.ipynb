{
  "nbformat": 4,
  "nbformat_minor": 0,
  "metadata": {
    "kernelspec": {
      "display_name": "Python 3",
      "language": "python",
      "name": "python3"
    },
    "language_info": {
      "codemirror_mode": {
        "name": "ipython",
        "version": 3
      },
      "file_extension": ".py",
      "mimetype": "text/x-python",
      "name": "python",
      "nbconvert_exporter": "python",
      "pygments_lexer": "ipython3",
      "version": "3.7.6"
    },
    "colab": {
      "name": "end my suffering week4.ipynb",
      "provenance": [],
      "include_colab_link": true
    }
  },
  "cells": [
    {
      "cell_type": "markdown",
      "metadata": {
        "id": "view-in-github",
        "colab_type": "text"
      },
      "source": [
        "<a href=\"https://colab.research.google.com/github/a32522/Data-Science-Python/blob/master/end_my_suffering_week4.ipynb\" target=\"_parent\"><img src=\"https://colab.research.google.com/assets/colab-badge.svg\" alt=\"Open In Colab\"/></a>"
      ]
    },
    {
      "cell_type": "code",
      "metadata": {
        "id": "CvI_zj8erKSN",
        "colab_type": "code",
        "outputId": "424f40c9-c69d-4bf1-d2cd-9ff5b86353cb",
        "colab": {}
      },
      "source": [
        "ok=[1,2,3,1,5,6,7,4,8,9]\n",
        "ok"
      ],
      "execution_count": 0,
      "outputs": [
        {
          "output_type": "execute_result",
          "data": {
            "text/plain": [
              "[1, 2, 3, 1, 5, 6, 7, 4, 8, 9]"
            ]
          },
          "metadata": {
            "tags": []
          },
          "execution_count": 4
        }
      ]
    },
    {
      "cell_type": "code",
      "metadata": {
        "id": "5byndU5WrKSe",
        "colab_type": "code",
        "outputId": "7811065a-8da2-4fe6-f9ce-4dc5b9ecaace",
        "colab": {}
      },
      "source": [
        "ok=set(range(10))\n",
        "ok"
      ],
      "execution_count": 0,
      "outputs": [
        {
          "output_type": "execute_result",
          "data": {
            "text/plain": [
              "{0, 1, 2, 3, 4, 5, 6, 7, 8, 9}"
            ]
          },
          "metadata": {
            "tags": []
          },
          "execution_count": 17
        }
      ]
    },
    {
      "cell_type": "code",
      "metadata": {
        "id": "wmzaDbyFrKSm",
        "colab_type": "code",
        "outputId": "7e72e027-2b0a-4cb6-cf8e-3606159a99f3",
        "colab": {}
      },
      "source": [
        "lol=set(range(2,7))\n",
        "lol"
      ],
      "execution_count": 0,
      "outputs": [
        {
          "output_type": "execute_result",
          "data": {
            "text/plain": [
              "{2, 3, 4, 5, 6}"
            ]
          },
          "metadata": {
            "tags": []
          },
          "execution_count": 19
        }
      ]
    },
    {
      "cell_type": "code",
      "metadata": {
        "id": "aqD2S55VrKS0",
        "colab_type": "code",
        "outputId": "df155bc3-7ee8-40af-cd61-0aade08a190e",
        "colab": {}
      },
      "source": [
        "nani=set(range(1,10,2))\n",
        "nani"
      ],
      "execution_count": 0,
      "outputs": [
        {
          "output_type": "execute_result",
          "data": {
            "text/plain": [
              "{1, 3, 5, 7, 9}"
            ]
          },
          "metadata": {
            "tags": []
          },
          "execution_count": 20
        }
      ]
    },
    {
      "cell_type": "code",
      "metadata": {
        "id": "j7w64kWYz4gc",
        "colab_type": "code",
        "colab": {}
      },
      "source": [
        "A={1,2,3}\n",
        "B={2,3,4}"
      ],
      "execution_count": 0,
      "outputs": []
    },
    {
      "cell_type": "code",
      "metadata": {
        "id": "gi6SfYwcrKS_",
        "colab_type": "code",
        "outputId": "ee9cb1a8-3edf-4bcb-bd00-d63dc0cda7de",
        "colab": {
          "base_uri": "https://localhost:8080/",
          "height": 34
        }
      },
      "source": [
        "C=A|B\n",
        "c=A.union(B)\n",
        "C\n",
        "D"
      ],
      "execution_count": 0,
      "outputs": [
        {
          "output_type": "execute_result",
          "data": {
            "text/plain": [
              "{1, 2, 3, 4}"
            ]
          },
          "metadata": {
            "tags": []
          },
          "execution_count": 9
        }
      ]
    },
    {
      "cell_type": "code",
      "metadata": {
        "id": "iqB0bzbmr0fF",
        "colab_type": "code",
        "outputId": "145fd1ff-e877-4413-b394-5f762d716591",
        "colab": {
          "base_uri": "https://localhost:8080/",
          "height": 34
        }
      },
      "source": [
        "D=A.difference(B)\n",
        "d=A-B\n",
        "c\n",
        "d"
      ],
      "execution_count": 0,
      "outputs": [
        {
          "output_type": "execute_result",
          "data": {
            "text/plain": [
              "{1}"
            ]
          },
          "metadata": {
            "tags": []
          },
          "execution_count": 8
        }
      ]
    },
    {
      "cell_type": "code",
      "metadata": {
        "id": "vP8B5ISmr0ql",
        "colab_type": "code",
        "outputId": "8b580309-48da-4c33-891a-69e8ba993d4e",
        "colab": {
          "base_uri": "https://localhost:8080/",
          "height": 34
        }
      },
      "source": [
        "E=A.intersection(B)\n",
        "e=A&B\n",
        "E\n",
        "e"
      ],
      "execution_count": 0,
      "outputs": [
        {
          "output_type": "execute_result",
          "data": {
            "text/plain": [
              "{2, 3}"
            ]
          },
          "metadata": {
            "tags": []
          },
          "execution_count": 11
        }
      ]
    },
    {
      "cell_type": "code",
      "metadata": {
        "id": "5kq2uphvr0o-",
        "colab_type": "code",
        "outputId": "a2205379-3337-4ac4-8854-cb3ec962e847",
        "colab": {
          "base_uri": "https://localhost:8080/",
          "height": 34
        }
      },
      "source": [
        "F=A.symmetric_difference(B)\n",
        "f=A^B\n",
        "F\n",
        "f"
      ],
      "execution_count": 0,
      "outputs": [
        {
          "output_type": "execute_result",
          "data": {
            "text/plain": [
              "{1, 4}"
            ]
          },
          "metadata": {
            "tags": []
          },
          "execution_count": 12
        }
      ]
    },
    {
      "cell_type": "code",
      "metadata": {
        "id": "1mIxOwgq3y_g",
        "colab_type": "code",
        "colab": {}
      },
      "source": [
        "from itertools import product"
      ],
      "execution_count": 0,
      "outputs": []
    },
    {
      "cell_type": "code",
      "metadata": {
        "id": "94O2SiWlYgUp",
        "colab_type": "code",
        "outputId": "0e68aef8-e27e-4f4c-8b1e-6fa3963d3c2b",
        "colab": {
          "base_uri": "https://localhost:8080/",
          "height": 170
        }
      },
      "source": [
        "fa=set({'J','Q','K'})\n",
        "ok={'what','The','Frick'}\n",
        "for i in product(fa,ok):\n",
        "  print(i)"
      ],
      "execution_count": 0,
      "outputs": [
        {
          "output_type": "stream",
          "text": [
            "('Q', 'The')\n",
            "('Q', 'Frick')\n",
            "('Q', 'what')\n",
            "('K', 'The')\n",
            "('K', 'Frick')\n",
            "('K', 'what')\n",
            "('J', 'The')\n",
            "('J', 'Frick')\n",
            "('J', 'what')\n"
          ],
          "name": "stdout"
        }
      ]
    },
    {
      "cell_type": "code",
      "metadata": {
        "id": "qC2AEvAqZjnd",
        "colab_type": "code",
        "colab": {}
      },
      "source": [
        ""
      ],
      "execution_count": 0,
      "outputs": []
    }
  ]
}