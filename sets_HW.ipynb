{
  "nbformat": 4,
  "nbformat_minor": 0,
  "metadata": {
    "kernelspec": {
      "display_name": "Python [default]",
      "language": "python",
      "name": "python3"
    },
    "language_info": {
      "codemirror_mode": {
        "name": "ipython",
        "version": 3
      },
      "file_extension": ".py",
      "mimetype": "text/x-python",
      "name": "python",
      "nbconvert_exporter": "python",
      "pygments_lexer": "ipython3",
      "version": "3.6.2"
    },
    "toc": {
      "base_numbering": 1,
      "nav_menu": {
        "height": "48px",
        "width": "252px"
      },
      "number_sections": true,
      "sideBar": true,
      "skip_h1_title": false,
      "title_cell": "Table of Contents",
      "title_sidebar": "Contents",
      "toc_cell": false,
      "toc_position": {},
      "toc_section_display": "block",
      "toc_window_display": false
    },
    "varInspector": {
      "cols": {
        "lenName": 16,
        "lenType": 16,
        "lenVar": 40
      },
      "kernels_config": {
        "python": {
          "delete_cmd_postfix": "",
          "delete_cmd_prefix": "del ",
          "library": "var_list.py",
          "varRefreshCmd": "print(var_dic_list())"
        },
        "r": {
          "delete_cmd_postfix": ") ",
          "delete_cmd_prefix": "rm(",
          "library": "var_list.r",
          "varRefreshCmd": "cat(var_dic_list()) "
        }
      },
      "types_to_exclude": [
        "module",
        "function",
        "builtin_function_or_method",
        "instance",
        "_Feature"
      ],
      "window_display": false
    },
    "colab": {
      "name": "sets_HW.ipynb",
      "provenance": [],
      "include_colab_link": true
    }
  },
  "cells": [
    {
      "cell_type": "markdown",
      "metadata": {
        "id": "view-in-github",
        "colab_type": "text"
      },
      "source": [
        "<a href=\"https://colab.research.google.com/github/a32522/Data-Science-Python/blob/master/sets_HW.ipynb\" target=\"_parent\"><img src=\"https://colab.research.google.com/assets/colab-badge.svg\" alt=\"Open In Colab\"/></a>"
      ]
    },
    {
      "cell_type": "markdown",
      "metadata": {
        "id": "OVx9JQViIfoz",
        "colab_type": "text"
      },
      "source": [
        "<font size=\"4\" style=\"color:red;\"> **IMPORTANT: ** When submitting this homework notebook, please modify only the cells that start with:</font>\n",
        "\n",
        "```python\n",
        "# modify this cell\n",
        "```"
      ]
    },
    {
      "cell_type": "markdown",
      "metadata": {
        "id": "RZ0CsmuIIfo1",
        "colab_type": "text"
      },
      "source": [
        "*Note:* No packages should be imported for this assignment"
      ]
    },
    {
      "cell_type": "markdown",
      "metadata": {
        "id": "hd71uR7lIfo3",
        "colab_type": "text"
      },
      "source": [
        "# Sets: The Inclusion-Exclusion Principle"
      ]
    },
    {
      "cell_type": "markdown",
      "metadata": {
        "id": "RVvUT0PfIfo8",
        "colab_type": "text"
      },
      "source": [
        "## Problem 1"
      ]
    },
    {
      "cell_type": "markdown",
      "metadata": {
        "id": "L6V0ps5TIfo_",
        "colab_type": "text"
      },
      "source": [
        "*italicized text*### Problem 1.1"
      ]
    },
    {
      "cell_type": "markdown",
      "metadata": {
        "id": "u5kWz2PGIfpC",
        "colab_type": "text"
      },
      "source": [
        "<img style=\"float: right;width:300px;height:200px\" src=\"figs/Venn2.jpg\">\n",
        "The inclusion-exclusion principle states that for two sets $A$ and $B$,\n",
        "\n",
        "$$|A\\cup B|=|A|+|B|-|A\\cap B|.$$\n",
        "\n",
        "Write the following functions to determine $|A\\cup B|$ in two different ways.\n",
        "\n",
        "A function **union** that determines first $A\\cup B$ and then evaluates the union's size.\n",
        "Output the ordered pair $(A\\cup B, |A\\cup B|)$.\n",
        "\n",
        "<font  style=\"color:blue\"> * **Sample run** *</font>\n",
        "```python\n",
        "A = {1, 2, 3}\n",
        "B = {3, -6, 2, 0}\n",
        "print union(A, B)\n",
        "```\n",
        "\n",
        "<font  style=\"color:magenta\"> * **Expected Output** *</font>\n",
        "```\n",
        "({-6, 0, 1, 2, 3}, 5)\n",
        "```"
      ]
    },
    {
      "cell_type": "code",
      "metadata": {
        "scrolled": true,
        "id": "qqTDjfXPIfpG",
        "colab_type": "code",
        "outputId": "27de6d6c-f112-4ccb-d296-42af91a1fe36",
        "colab": {
          "base_uri": "https://localhost:8080/",
          "height": 34
        }
      },
      "source": [
        "# modify this cell\n",
        "def union(A, B):\n",
        "    # inputs: A and B are of type 'set'\n",
        "    # output: a tuple of the type (set, set_length)\n",
        "    #\n",
        "    # YOUR CODE HERE\n",
        "    #\n",
        "    ok=A | B \n",
        "    return ok,len(ok)\n",
        "union(A,B) "
      ],
      "execution_count": 0,
      "outputs": [
        {
          "output_type": "execute_result",
          "data": {
            "text/plain": [
              "({-3, 1, 2, 4, 'bob', 'jill'}, 6)"
            ]
          },
          "metadata": {
            "tags": []
          },
          "execution_count": 15
        }
      ]
    },
    {
      "cell_type": "code",
      "metadata": {
        "nbgrader": {
          "grade": true,
          "grade_id": "ex1",
          "locked": true,
          "points": "5",
          "solution": false
        },
        "id": "Wtqu19GPIfpZ",
        "colab_type": "code",
        "colab": {}
      },
      "source": [
        "A = {1,4,-3, \"bob\"}\n",
        "B = {2,1,-3,\"jill\"}\n",
        "assert union(A,B) == ({-3, 1, 2, 4, 'bob', 'jill'}, 6)\n",
        "\n",
        "#\n",
        "# AUTOGRADER TEST - DO NOT REMOVE\n",
        "#\n"
      ],
      "execution_count": 0,
      "outputs": []
    },
    {
      "cell_type": "markdown",
      "metadata": {
        "id": "4DEf22jOIfpm",
        "colab_type": "text"
      },
      "source": [
        "### Problem 1.2"
      ]
    },
    {
      "cell_type": "markdown",
      "metadata": {
        "id": "2sIJJVzwIfpo",
        "colab_type": "text"
      },
      "source": [
        "A function **inclusion_exclusion** that first deterimines $|A|$, $|B|$, $A\\cap B$, and $|A\\cap B|$, and then uses the inclusion-exclusion formula to determine $|A\\cup B|$. \n",
        "Output the tuple $(|A|, |B|, |A\\cap B|, |A\\cup B|)$.\n",
        "\n",
        "<img style=\"float: right;width:400px;height:266px\" src=\"figs/Venn3.jpg\">\n",
        "<font  style=\"color:blue\"> * **Sample run:** *</font>\n",
        "```python\n",
        "A = {1, 2, 3}\n",
        "B = {3, -6, 2, 0}\n",
        "print inclusion_exclusion(A, B)\n",
        "print \"notice: 3 + 4 - 2 == 5\"\n",
        "```\n",
        "\n",
        "<font  style=\"color:magenta\"> * **Expected Output:** *</font>\n",
        "```\n",
        "(3, 4, 2, 5)\n",
        "notice: 3 + 4 - 2 == 5\n",
        "```"
      ]
    },
    {
      "cell_type": "code",
      "metadata": {
        "id": "WfGlLeDRIfpq",
        "colab_type": "code",
        "colab": {
          "base_uri": "https://localhost:8080/",
          "height": 34
        },
        "outputId": "de4653b1-f807-4b51-f8cb-8366053f7146"
      },
      "source": [
        "# modify this cell\n",
        "def inclusion_exclusion(A, B):\n",
        "    # inputs: A and B are of type 'set'\n",
        "    # output: a tuple of four integers\n",
        "    #\n",
        "    # YOUR CODE HERE\n",
        "    #\n",
        "    return len(A),len(B),len(A&B),len(A|B)\n",
        "\n",
        "inclusion_exclusion(A,B)"
      ],
      "execution_count": 29,
      "outputs": [
        {
          "output_type": "execute_result",
          "data": {
            "text/plain": [
              "(5, 6, 2, 9)"
            ]
          },
          "metadata": {
            "tags": []
          },
          "execution_count": 29
        }
      ]
    },
    {
      "cell_type": "code",
      "metadata": {
        "nbgrader": {
          "grade": true,
          "grade_id": "ex2",
          "locked": true,
          "points": "5",
          "solution": false
        },
        "id": "REZhwXl-Ifp-",
        "colab_type": "code",
        "colab": {}
      },
      "source": [
        "# Check Function\n",
        "\n",
        "A = {1, 2, 3, 4, 5}\n",
        "B = {0, 2, -6, 5, 8, 9}\n",
        "assert inclusion_exclusion(A, B) == (5, 6, 2, 9)\n",
        "\n",
        "#\n",
        "# AUTOGRADER TEST - DO NOT REMOVE\n",
        "#\n"
      ],
      "execution_count": 0,
      "outputs": []
    },
    {
      "cell_type": "markdown",
      "metadata": {
        "collapsed": true,
        "id": "LLS1IcNcIfqL",
        "colab_type": "text"
      },
      "source": [
        "## Problem 2"
      ]
    },
    {
      "cell_type": "markdown",
      "metadata": {
        "id": "MstQCPYtIfqP",
        "colab_type": "text"
      },
      "source": [
        "The inclusion-exclusion principle says that for three sets $A$, $B$ and $C$, \n",
        "\n",
        "$$|A\\cup B\\cup C|=|A|+|B|+|C|-|A\\cap B|-|B\\cap C|-|C\\cap A|+|A\\cap B\\cap C|$$\n",
        "\n",
        "We will write the following functions to determine $|A\\cup B\\cup C|$ in two different ways."
      ]
    },
    {
      "cell_type": "markdown",
      "metadata": {
        "id": "g5_1sCHmIfqQ",
        "colab_type": "text"
      },
      "source": [
        "### Problem 2.1"
      ]
    },
    {
      "cell_type": "markdown",
      "metadata": {
        "id": "Q0-DF741IfqR",
        "colab_type": "text"
      },
      "source": [
        "Write function **union3** that first determines $A\\cup B\\cup C$ and then evaluates the size of this union.\n",
        "Output the tuple $(A\\cup B\\cup C, |A\\cup B\\cup C|)$.\n",
        "\n",
        "<font  style=\"color:blue\"> * **Sample run:** *</font>\n",
        "```python\n",
        "A = {1, 2, 3, 4, 5}\n",
        "B = {0, 2, -6, 5, 8, 9}\n",
        "C = {2, 10}\n",
        "union3(A, B, C)\n",
        "```\n",
        "\n",
        "\n",
        "<font  style=\"color:magenta\"> * **Expected Output:** *</font>\n",
        "```\n",
        "({-6, 0, 1, 2, 3, 4, 5, 8, 9, 10}, 10)\n",
        "```"
      ]
    },
    {
      "cell_type": "code",
      "metadata": {
        "scrolled": true,
        "id": "CQQzHHaLIfqT",
        "colab_type": "code",
        "colab": {
          "base_uri": "https://localhost:8080/",
          "height": 34
        },
        "outputId": "f0b42239-b6f2-4a3c-a285-36eb8434c3e2"
      },
      "source": [
        "# modify this cell\n",
        "def union3(A, B, C):\n",
        "    # inputs: A, B and C are of type 'set'\n",
        "    # output: a tuple of the type (set, set_length)\n",
        "    #\n",
        "    # YOUR CODE HERE\n",
        "    #\n",
        "    return A|B|C,len(A|B|C)\n",
        "union3(A,B,C)"
      ],
      "execution_count": 33,
      "outputs": [
        {
          "output_type": "execute_result",
          "data": {
            "text/plain": [
              "({-6, 0, 1, 2, 3, 4, 5, 8, 9, 10}, 10)"
            ]
          },
          "metadata": {
            "tags": []
          },
          "execution_count": 33
        }
      ]
    },
    {
      "cell_type": "code",
      "metadata": {
        "nbgrader": {
          "grade": true,
          "grade_id": "ex3",
          "locked": true,
          "points": "5",
          "solution": false
        },
        "id": "0pfq6gq2Ifql",
        "colab_type": "code",
        "colab": {}
      },
      "source": [
        "# check Function\n",
        "A = {1, 2, 4, 5, 10}\n",
        "B = {5, 2, -6, 5, 8, 9}\n",
        "C = {2, 10, 13}\n",
        "assert union3(A,B,C) == ({-6, 1, 2, 4, 5, 8, 9, 10, 13}, 9)\n",
        "\n",
        "#\n",
        "# AUTOGRADER TEST - DO NOT REMOVE\n",
        "#\n"
      ],
      "execution_count": 0,
      "outputs": []
    },
    {
      "cell_type": "markdown",
      "metadata": {
        "id": "jg9v1CNtIfq6",
        "colab_type": "text"
      },
      "source": [
        "### Problem 2.2"
      ]
    },
    {
      "cell_type": "markdown",
      "metadata": {
        "id": "DS6OOIYSIfq8",
        "colab_type": "text"
      },
      "source": [
        "A function **inclusion_exclusion3** that first deterimines the sizes of $A$, $B$, $C$ and their mutual intersections, and then uses the inclusion-exclusion principle to determine the size of the union. Output the tuple $(|A\\cap B\\cap C|, |A\\cup B\\cup C|)$. Note that for brevity we are asking you to output the intermediate answer just for $A\\cap B\\cap C$, but you need to calculate all. \n",
        "\n",
        "<font  style=\"color:blue\"> * **Sample run:** *</font>\n",
        "```python\n",
        "A = {1, 2, 3, 4, 5}\n",
        "B = {0, 2, -6, 5, 8, 9}\n",
        "C = {2, 10}\n",
        "print inclusion_exclusion3(A, B, C)\n",
        "```\n",
        "\n",
        "\n",
        "<font  style=\"color:magenta\"> * **Expected Output:** *</font>\n",
        "```\n",
        "(1, 10)\n",
        "```"
      ]
    },
    {
      "cell_type": "code",
      "metadata": {
        "id": "p_yqm04MIfq9",
        "colab_type": "code",
        "colab": {
          "base_uri": "https://localhost:8080/",
          "height": 34
        },
        "outputId": "be307dd7-0062-4b81-9cc6-a83c99ce2349"
      },
      "source": [
        "# modify this cell\n",
        "A = {1, 2, 3, 4, 5}\n",
        "B = {0, 2, -6, 5, 8, 9}\n",
        "C = {2, 10}\n",
        "def inclusion_exclusion3(A, B, C):\n",
        "    # inputs: A, B and C are of type 'set'\n",
        "    # output: a tuple of two integers\n",
        "    #\n",
        "    # YOUR CODE HERE\n",
        "    #\n",
        "    return len(A&B&C),len(A|B|C)\n",
        "inclusion_exclusion3(A,B,C)"
      ],
      "execution_count": 40,
      "outputs": [
        {
          "output_type": "execute_result",
          "data": {
            "text/plain": [
              "(1, 10)"
            ]
          },
          "metadata": {
            "tags": []
          },
          "execution_count": 40
        }
      ]
    },
    {
      "cell_type": "code",
      "metadata": {
        "nbgrader": {
          "grade": true,
          "grade_id": "ex4",
          "locked": true,
          "points": "5",
          "solution": false
        },
        "id": "51YDlH3eIfrI",
        "colab_type": "code",
        "colab": {}
      },
      "source": [
        "# Check Function\n",
        "\n",
        "A = {1, 2, 4, 5, 10}\n",
        "B = {5, 2, -6, 5, 8, 9, 10}\n",
        "C = {2, 10, 13}\n",
        "assert inclusion_exclusion3(A,B,C) == (2, 9)\n",
        "\n",
        "#\n",
        "# AUTOGRADER TEST - DO NOT REMOVE\n",
        "#\n"
      ],
      "execution_count": 0,
      "outputs": []
    },
    {
      "cell_type": "code",
      "metadata": {
        "id": "DXfgGOdeW9DI",
        "colab_type": "code",
        "colab": {}
      },
      "source": [
        ""
      ],
      "execution_count": 0,
      "outputs": []
    }
  ]
}